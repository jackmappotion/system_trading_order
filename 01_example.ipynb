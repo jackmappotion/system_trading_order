{
 "cells": [
  {
   "cell_type": "code",
   "execution_count": 1,
   "metadata": {},
   "outputs": [],
   "source": [
    "import datetime as dt\n",
    "import pandas as pd\n",
    "\n",
    "from order_tools.controller import Controller, StatusController, OrderController"
   ]
  },
  {
   "cell_type": "code",
   "execution_count": 2,
   "metadata": {},
   "outputs": [],
   "source": [
    "api_key = \"your api_key\"\n",
    "api_secret = \"your api_secrete\"\n",
    "acc_no = \"your acc_no\"\n",
    "\n",
    "from private import api_key, api_secret, acc_no\n",
    "\n",
    "controller = Controller(api_key, api_secret, acc_no)\n",
    "controller.set_access_token()"
   ]
  },
  {
   "cell_type": "code",
   "execution_count": 3,
   "metadata": {},
   "outputs": [],
   "source": [
    "status_controller = StatusController(controller)"
   ]
  },
  {
   "cell_type": "code",
   "execution_count": 4,
   "metadata": {},
   "outputs": [
    {
     "data": {
      "text/html": [
       "<div>\n",
       "<style scoped>\n",
       "    .dataframe tbody tr th:only-of-type {\n",
       "        vertical-align: middle;\n",
       "    }\n",
       "\n",
       "    .dataframe tbody tr th {\n",
       "        vertical-align: top;\n",
       "    }\n",
       "\n",
       "    .dataframe thead th {\n",
       "        text-align: right;\n",
       "    }\n",
       "</style>\n",
       "<table border=\"1\" class=\"dataframe\">\n",
       "  <thead>\n",
       "    <tr style=\"text-align: right;\">\n",
       "      <th></th>\n",
       "      <th>cash</th>\n",
       "      <th>stock</th>\n",
       "      <th>total</th>\n",
       "    </tr>\n",
       "  </thead>\n",
       "  <tbody>\n",
       "    <tr>\n",
       "      <th>0</th>\n",
       "      <td>80977.0</td>\n",
       "      <td>18800</td>\n",
       "      <td>99777</td>\n",
       "    </tr>\n",
       "  </tbody>\n",
       "</table>\n",
       "</div>"
      ],
      "text/plain": [
       "      cash  stock  total\n",
       "0  80977.0  18800  99777"
      ]
     },
     "execution_count": 4,
     "metadata": {},
     "output_type": "execute_result"
    }
   ],
   "source": [
    "balance_df = status_controller.load_balance()\n",
    "balance_df"
   ]
  },
  {
   "cell_type": "code",
   "execution_count": 5,
   "metadata": {},
   "outputs": [
    {
     "data": {
      "text/html": [
       "<div>\n",
       "<style scoped>\n",
       "    .dataframe tbody tr th:only-of-type {\n",
       "        vertical-align: middle;\n",
       "    }\n",
       "\n",
       "    .dataframe tbody tr th {\n",
       "        vertical-align: top;\n",
       "    }\n",
       "\n",
       "    .dataframe thead th {\n",
       "        text-align: right;\n",
       "    }\n",
       "</style>\n",
       "<table border=\"1\" class=\"dataframe\">\n",
       "  <thead>\n",
       "    <tr style=\"text-align: right;\">\n",
       "      <th></th>\n",
       "      <th>stock_code</th>\n",
       "      <th>stock_nm</th>\n",
       "      <th>buying_price</th>\n",
       "      <th>current_price</th>\n",
       "      <th>quantity</th>\n",
       "      <th>profit_pct</th>\n",
       "    </tr>\n",
       "  </thead>\n",
       "  <tbody>\n",
       "    <tr>\n",
       "      <th>0</th>\n",
       "      <td>011200</td>\n",
       "      <td>HMM</td>\n",
       "      <td>18910.0000</td>\n",
       "      <td>18800</td>\n",
       "      <td>1</td>\n",
       "      <td>-0.582%</td>\n",
       "    </tr>\n",
       "  </tbody>\n",
       "</table>\n",
       "</div>"
      ],
      "text/plain": [
       "  stock_code stock_nm buying_price current_price quantity profit_pct\n",
       "0     011200      HMM   18910.0000         18800        1    -0.582%"
      ]
     },
     "execution_count": 5,
     "metadata": {},
     "output_type": "execute_result"
    }
   ],
   "source": [
    "position_df = status_controller.load_position()\n",
    "position_df"
   ]
  },
  {
   "cell_type": "code",
   "execution_count": 6,
   "metadata": {},
   "outputs": [],
   "source": [
    "buying_orders = [(\"011200\", 1), (\"003650\", 1), (\"123920\", 3)]\n",
    "order_controller = OrderController(controller)\n",
    "\n",
    "# 수준 낮은 최하급 for 문\n",
    "buying_resps = list()\n",
    "for buying_order in buying_orders:\n",
    "    resp = order_controller.make_market_buy_order(*buying_order)\n",
    "    buying_resps.append(resp)"
   ]
  },
  {
   "cell_type": "code",
   "execution_count": 7,
   "metadata": {},
   "outputs": [
    {
     "data": {
      "text/html": [
       "<div>\n",
       "<style scoped>\n",
       "    .dataframe tbody tr th:only-of-type {\n",
       "        vertical-align: middle;\n",
       "    }\n",
       "\n",
       "    .dataframe tbody tr th {\n",
       "        vertical-align: top;\n",
       "    }\n",
       "\n",
       "    .dataframe thead th {\n",
       "        text-align: right;\n",
       "    }\n",
       "</style>\n",
       "<table border=\"1\" class=\"dataframe\">\n",
       "  <thead>\n",
       "    <tr style=\"text-align: right;\">\n",
       "      <th></th>\n",
       "      <th>stock_code</th>\n",
       "      <th>quantity</th>\n",
       "      <th>msg1</th>\n",
       "    </tr>\n",
       "  </thead>\n",
       "  <tbody>\n",
       "    <tr>\n",
       "      <th>0</th>\n",
       "      <td>011200</td>\n",
       "      <td>1</td>\n",
       "      <td>주문 전송 완료 되었습니다.</td>\n",
       "    </tr>\n",
       "    <tr>\n",
       "      <th>1</th>\n",
       "      <td>003650</td>\n",
       "      <td>1</td>\n",
       "      <td>주문가능금액을 초과 했습니다</td>\n",
       "    </tr>\n",
       "    <tr>\n",
       "      <th>2</th>\n",
       "      <td>123920</td>\n",
       "      <td>3</td>\n",
       "      <td>해당종목정보가 없습니다.</td>\n",
       "    </tr>\n",
       "  </tbody>\n",
       "</table>\n",
       "</div>"
      ],
      "text/plain": [
       "  stock_code  quantity             msg1\n",
       "0     011200         1  주문 전송 완료 되었습니다.\n",
       "1     003650         1  주문가능금액을 초과 했습니다\n",
       "2     123920         3    해당종목정보가 없습니다."
      ]
     },
     "execution_count": 7,
     "metadata": {},
     "output_type": "execute_result"
    }
   ],
   "source": [
    "_buying_resps_df = pd.DataFrame(buying_resps)\n",
    "buying_resps_df = pd.concat(\n",
    "    [\n",
    "        _buying_resps_df[\"meta\"].apply(pd.Series),\n",
    "        _buying_resps_df.loc[:, [\"msg1\"]],\n",
    "    ],\n",
    "    axis=1,\n",
    ")\n",
    "buying_resps_df"
   ]
  },
  {
   "cell_type": "code",
   "execution_count": 8,
   "metadata": {},
   "outputs": [],
   "source": [
    "selling_orders = [(\"011200\", 1), (\"003650\", 1), (\"123920\", 3)]\n",
    "\n",
    "selling_resps = list()\n",
    "for selling_order in selling_orders:\n",
    "    resp = order_controller.make_market_sell_order(*selling_order)\n",
    "    selling_resps.append(resp)"
   ]
  },
  {
   "cell_type": "code",
   "execution_count": 9,
   "metadata": {},
   "outputs": [
    {
     "data": {
      "text/html": [
       "<div>\n",
       "<style scoped>\n",
       "    .dataframe tbody tr th:only-of-type {\n",
       "        vertical-align: middle;\n",
       "    }\n",
       "\n",
       "    .dataframe tbody tr th {\n",
       "        vertical-align: top;\n",
       "    }\n",
       "\n",
       "    .dataframe thead th {\n",
       "        text-align: right;\n",
       "    }\n",
       "</style>\n",
       "<table border=\"1\" class=\"dataframe\">\n",
       "  <thead>\n",
       "    <tr style=\"text-align: right;\">\n",
       "      <th></th>\n",
       "      <th>stock_code</th>\n",
       "      <th>quantity</th>\n",
       "      <th>msg1</th>\n",
       "    </tr>\n",
       "  </thead>\n",
       "  <tbody>\n",
       "    <tr>\n",
       "      <th>0</th>\n",
       "      <td>011200</td>\n",
       "      <td>1</td>\n",
       "      <td>주문 전송 완료 되었습니다.</td>\n",
       "    </tr>\n",
       "    <tr>\n",
       "      <th>1</th>\n",
       "      <td>003650</td>\n",
       "      <td>1</td>\n",
       "      <td>주문 가능한 수량을 초과했습니다.</td>\n",
       "    </tr>\n",
       "    <tr>\n",
       "      <th>2</th>\n",
       "      <td>123920</td>\n",
       "      <td>3</td>\n",
       "      <td>해당종목정보가 없습니다.</td>\n",
       "    </tr>\n",
       "  </tbody>\n",
       "</table>\n",
       "</div>"
      ],
      "text/plain": [
       "  stock_code  quantity                msg1\n",
       "0     011200         1     주문 전송 완료 되었습니다.\n",
       "1     003650         1  주문 가능한 수량을 초과했습니다.\n",
       "2     123920         3       해당종목정보가 없습니다."
      ]
     },
     "execution_count": 9,
     "metadata": {},
     "output_type": "execute_result"
    }
   ],
   "source": [
    "_selling_resps_df = pd.DataFrame(selling_resps)\n",
    "selling_resps_df = pd.concat(\n",
    "    [\n",
    "        _selling_resps_df[\"meta\"].apply(pd.Series),\n",
    "        _selling_resps_df.loc[:, [\"msg1\"]],\n",
    "    ],\n",
    "    axis=1,\n",
    ")\n",
    "selling_resps_df"
   ]
  },
  {
   "cell_type": "code",
   "execution_count": null,
   "metadata": {},
   "outputs": [],
   "source": []
  }
 ],
 "metadata": {
  "kernelspec": {
   "display_name": "quant_trading",
   "language": "python",
   "name": "python3"
  },
  "language_info": {
   "codemirror_mode": {
    "name": "ipython",
    "version": 3
   },
   "file_extension": ".py",
   "mimetype": "text/x-python",
   "name": "python",
   "nbconvert_exporter": "python",
   "pygments_lexer": "ipython3",
   "version": "3.10.13"
  }
 },
 "nbformat": 4,
 "nbformat_minor": 2
}
